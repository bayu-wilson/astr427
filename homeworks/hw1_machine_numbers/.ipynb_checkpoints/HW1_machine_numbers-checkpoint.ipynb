{
 "cells": [
  {
   "cell_type": "markdown",
   "metadata": {},
   "source": [
    "# Homework 1: Machine numbers; Interpolation\n",
    "\n",
    "Due April 11th"
   ]
  },
  {
   "cell_type": "markdown",
   "metadata": {},
   "source": [
    "## (1) Floating point representation\n",
    "\n",
    "[Floating Point Representation](https://en.wikipedia.org/wiki/Single-precision_floating-point_format)\n",
    "\n",
    "Comment on why the numbers you get are expected based on the IEEE 754 representation\n",
    "\n"
   ]
  },
  {
   "cell_type": "code",
   "execution_count": 301,
   "metadata": {},
   "outputs": [],
   "source": [
    "import numpy as np\n",
    "import matplotlib.pyplot as plt"
   ]
  },
  {
   "cell_type": "markdown",
   "metadata": {},
   "source": [
    "# (1a)\n",
    "\n",
    "a) Smallest $\\epsilon$ such that $1.0-\\epsilon \\neq 1.0$ "
   ]
  },
  {
   "cell_type": "code",
   "execution_count": 2,
   "metadata": {},
   "outputs": [
    {
     "data": {
      "text/plain": [
       "5.551139077348703e-17"
      ]
     },
     "execution_count": 2,
     "metadata": {},
     "output_type": "execute_result"
    }
   ],
   "source": [
    "eps = 2.0\n",
    "while 1-eps != 1:\n",
    "    smallest_eps = eps\n",
    "    eps = eps*(0.99999)\n",
    "smallest_eps"
   ]
  },
  {
   "cell_type": "code",
   "execution_count": 226,
   "metadata": {},
   "outputs": [
    {
     "data": {
      "text/plain": [
       "5.551115123125783e-17"
      ]
     },
     "execution_count": 226,
     "metadata": {},
     "output_type": "execute_result"
    }
   ],
   "source": [
    "2**(-54)"
   ]
  },
  {
   "cell_type": "markdown",
   "metadata": {},
   "source": [
    "# (1b)\n",
    "\n",
    "b) Smallest $\\epsilon$ such that $1.0+\\epsilon \\neq 1.0$ "
   ]
  },
  {
   "cell_type": "code",
   "execution_count": 227,
   "metadata": {},
   "outputs": [
    {
     "data": {
      "text/plain": [
       "1.110223691158694e-16"
      ]
     },
     "execution_count": 227,
     "metadata": {},
     "output_type": "execute_result"
    }
   ],
   "source": [
    "eps = 2\n",
    "while 1+eps != 1:\n",
    "    smallest_eps = eps\n",
    "    eps = eps*(0.99999)\n",
    "smallest_eps"
   ]
  },
  {
   "cell_type": "code",
   "execution_count": 218,
   "metadata": {},
   "outputs": [
    {
     "data": {
      "text/plain": [
       "1.1102230246251565e-16"
      ]
     },
     "execution_count": 218,
     "metadata": {},
     "output_type": "execute_result"
    }
   ],
   "source": [
    "2**(-53)"
   ]
  },
  {
   "cell_type": "markdown",
   "metadata": {},
   "source": [
    "# (1c)\n",
    "\n",
    "c) The maximum representable positive number\n"
   ]
  },
  {
   "cell_type": "code",
   "execution_count": 214,
   "metadata": {},
   "outputs": [
    {
     "data": {
      "text/plain": [
       "8.98846567431158e+307"
      ]
     },
     "execution_count": 214,
     "metadata": {},
     "output_type": "execute_result"
    }
   ],
   "source": [
    "num = 2#1e1\n",
    "while num < float(\"inf\"):\n",
    "    max_num = num\n",
    "    num *= 2.0 #1.0001\n",
    "max_num"
   ]
  },
  {
   "cell_type": "code",
   "execution_count": 215,
   "metadata": {},
   "outputs": [
    {
     "name": "stdout",
     "output_type": "stream",
     "text": [
      "8.988466e+307\n"
     ]
    }
   ],
   "source": [
    "print(\"{0:e}\".format(2**1023))"
   ]
  },
  {
   "cell_type": "markdown",
   "metadata": {},
   "source": [
    "# (1d) \n",
    "\n",
    "d) The minimum representable positive number"
   ]
  },
  {
   "cell_type": "code",
   "execution_count": 191,
   "metadata": {},
   "outputs": [
    {
     "data": {
      "text/plain": [
       "5e-324"
      ]
     },
     "execution_count": 191,
     "metadata": {},
     "output_type": "execute_result"
    }
   ],
   "source": [
    "num = 2\n",
    "while num > 0.0:\n",
    "    min_num = num\n",
    "    num *=(1/2)\n",
    "min_num"
   ]
  },
  {
   "cell_type": "code",
   "execution_count": 189,
   "metadata": {},
   "outputs": [
    {
     "data": {
      "text/plain": [
       "5e-324"
      ]
     },
     "execution_count": 189,
     "metadata": {},
     "output_type": "execute_result"
    }
   ],
   "source": [
    "2**-1074"
   ]
  },
  {
   "cell_type": "code",
   "execution_count": 196,
   "metadata": {},
   "outputs": [
    {
     "data": {
      "text/plain": [
       "1.0"
      ]
     },
     "execution_count": 196,
     "metadata": {},
     "output_type": "execute_result"
    }
   ],
   "source": [
    "np.log2(2)"
   ]
  },
  {
   "cell_type": "code",
   "execution_count": 228,
   "metadata": {},
   "outputs": [
    {
     "data": {
      "text/plain": [
       "1.1754943508222875e-38"
      ]
     },
     "execution_count": 228,
     "metadata": {},
     "output_type": "execute_result"
    }
   ],
   "source": [
    "2**-126"
   ]
  },
  {
   "cell_type": "code",
   "execution_count": null,
   "metadata": {},
   "outputs": [],
   "source": []
  },
  {
   "cell_type": "code",
   "execution_count": null,
   "metadata": {},
   "outputs": [],
   "source": []
  },
  {
   "cell_type": "markdown",
   "metadata": {},
   "source": [
    "# (2) Roundoff Error\n",
    "\n",
    "Numerically evaluate the expression, \n",
    "\n",
    "## $$ f(x) = \\frac{1-cos(x)}{x^2}$$\n",
    "\n",
    "in double precision for values of $x$ around $10^{-7}$ and smaller. Explain the difference between the numerical results and the analytic limit as $x\\rightarrow0$\n",
    "\n",
    "### Analytic Solution\n",
    "\n",
    "#### $ lim_{x\\rightarrow 0}$ $f(x) = lim_{x\\rightarrow 0} \\frac{1-cos(x)}{x^2} $\n",
    "\n",
    "Use L'Hôpital's Rule:\n",
    "\n",
    "$ \\frac{1-cos(x)}{x^2} \\rightarrow\\frac{sin(x)}{2x}\\rightarrow\\frac{cos(x)}{2}$ \n",
    "\n",
    "Evaluate function at x=0 so:\n",
    "\n",
    "$ lim_{x\\rightarrow 0} \\frac{1-cos(x)}{x^2} = \\frac{cos(0)}{2} = \\frac{1}{2}$ "
   ]
  },
  {
   "cell_type": "code",
   "execution_count": 229,
   "metadata": {},
   "outputs": [],
   "source": [
    "def myfunc(x):\n",
    "    return (1-np.cos(x))/x**2"
   ]
  },
  {
   "cell_type": "code",
   "execution_count": 277,
   "metadata": {},
   "outputs": [
    {
     "data": {
      "text/plain": [
       "0.0"
      ]
     },
     "execution_count": 277,
     "metadata": {},
     "output_type": "execute_result"
    }
   ],
   "source": [
    "myfunc(1e-8)"
   ]
  },
  {
   "cell_type": "code",
   "execution_count": null,
   "metadata": {},
   "outputs": [],
   "source": []
  },
  {
   "cell_type": "markdown",
   "metadata": {},
   "source": [
    "# (3) Interpolation"
   ]
  },
  {
   "cell_type": "code",
   "execution_count": 352,
   "metadata": {},
   "outputs": [
    {
     "data": {
      "image/png": "[encoded data removed]",
      "text/plain": [
       "<matplotlib.figure.Figure at 0x11179e7b8>"
      ]
     },
     "metadata": {},
     "output_type": "display_data"
    }
   ],
   "source": [
    "def read_and_2dinterp(file,arbitrary_point):\n",
    "    data = np.loadtxt(file).T\n",
    "    x,y = data[0],data[1]\n",
    "    return np.interp(arbitrary_point, x, y)\n",
    "\n",
    "def actual_function(x):\n",
    "    return 1/(1+25*x**2)\n",
    "\n",
    "x_0 = 3/4\n",
    "y_0 = read_and_2dinterp(\"hw1.dat\",x_0)\n",
    "plt.figure(figsize=(10,5))\n",
    "plt.grid()\n",
    "plt.plot(np.linspace(-1,1,100),actual_function(np.linspace(-1,1,100)),label='Actual Function')\n",
    "plt.plot(x,y, label='Input Data')\n",
    "plt.scatter([x_0],[y_0],s=50, color='red',\n",
    "            label='Interp. point ({0:.2f},{1:.2f})'.format(x_0,y_0))\n",
    "plt.scatter([x_0],actual_function(x_0),s=50, color='green',\n",
    "            label='Actual Point({0:.2f},{1:.2f})'.format(x_0,actual_function(x_0)))\n",
    "plt.legend(loc='best', fontsize=13)\n",
    "plt.show()"
   ]
  },
  {
   "cell_type": "code",
   "execution_count": 329,
   "metadata": {},
   "outputs": [
    {
     "data": {
      "text/plain": [
       "0.06639004149377593"
      ]
     },
     "execution_count": 329,
     "metadata": {},
     "output_type": "execute_result"
    }
   ],
   "source": [
    "actual_function(x_0)"
   ]
  },
  {
   "cell_type": "code",
   "execution_count": null,
   "metadata": {},
   "outputs": [],
   "source": []
  }
 ],
 "metadata": {
  "anaconda-cloud": {},
  "kernelspec": {
   "display_name": "Python [conda env:anaconda3]",
   "language": "python",
   "name": "conda-env-anaconda3-py"
  },
  "language_info": {
   "codemirror_mode": {
    "name": "ipython",
    "version": 3
   },
   "file_extension": ".py",
   "mimetype": "text/x-python",
   "name": "python",
   "nbconvert_exporter": "python",
   "pygments_lexer": "ipython3",
   "version": "3.5.4"
  }
 },
 "nbformat": 4,
 "nbformat_minor": 2
}
