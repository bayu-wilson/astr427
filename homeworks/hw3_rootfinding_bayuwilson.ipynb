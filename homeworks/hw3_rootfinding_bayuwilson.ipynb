{
 "cells": [
  {
   "cell_type": "markdown",
   "metadata": {},
   "source": [
    "# Homework 3: Root Finding\n",
    "\n",
    "### Bayu Wilson\n",
    "### Professor Tom Quinn\n",
    "\n",
    "Due May 9th"
   ]
  },
  {
   "cell_type": "markdown",
   "metadata": {},
   "source": [
    "# NOTES\n",
    "\n",
    "What is meant by a root? [See here](https://en.wikipedia.org/wiki/Root-finding_algorithm#Bisection_method)\n",
    "\n",
    "A root of a function f, from the real numbers to real numbers or from the complex numbers to the complex numbers, is a number x such that f(x) = 0.\n",
    "\n",
    "$f(x)=0, \\space f(model)-f(data) = 0$\n",
    "\n",
    "## $$ M = E - e sin(E) $$\n",
    "\n",
    "## $$ \\Delta t= (t-t_{peri}) = \\frac{P M}{2\\pi} $$\n",
    "\n",
    "## $$ f(E) = 0  = E-esin(E)-M $$\n",
    "M: mean anomoly. It is an **angle** that increases linearly in time. Proportional to time.\n",
    "\n",
    "E: Eccentric anomoly is the position of body from the center of the ellipse. This is also an **angle**.\n",
    "\n",
    "e: Eccentricity of the ellipse (0 is circle, 1 is parabola)"
   ]
  },
  {
   "cell_type": "markdown",
   "metadata": {},
   "source": [
    "### BISECTION\n",
    "\n",
    "$$ m = \\frac{a+b}{2}$$\n",
    "\n",
    "$$ f(m)*f(b)<0, \\space (a,b)\\rightarrow (m,b) $$\n",
    "\n",
    "$$ f(a)*f(m)<0, \\space (a,b) \\rightarrow (a,m) $$\n",
    "\n",
    "### NEWTON\n",
    "\n",
    "$$ 0 = f(x) = f(x_0) + (x-x_0)f'(x_0) + \\frac{(x-x_0)^2}{2}f''(x_0) $$\n",
    "\n",
    "$$ x = x_0 - \\frac{f(x_0)}{f'(x_0)} $$\n",
    "\n",
    "$$ x_{k+1} = x_{k}-\\frac{f(x_k)}{f'(x_k)} $$"
   ]
  },
  {
   "cell_type": "markdown",
   "metadata": {},
   "source": [
    "### DIVISION\n",
    "\n",
    "Solution is to force multiplication instead of doing division. What happens is actually a root finding function.\n",
    "\n",
    "$x*a - 1 = 0,a-1.0/x=0,f'=1.0/x^2$\n",
    "\n",
    "$ x_{k+1} = x_{k}-(ax_k^2-x_k) $\n",
    "\n",
    "$ x_{k+1} = x_{k}(2-ax_k) $"
   ]
  },
  {
   "cell_type": "markdown",
   "metadata": {},
   "source": [
    "## 1) Write a program to find the roots of one-dimensional equations using:\n",
    "a) [Bisection method](https://en.wikipedia.org/wiki/Bisection_method)\n",
    "\n",
    "b) [Newton-Raphson method](https://en.wikipedia.org/wiki/Newton%27s_method)\n",
    "\n",
    "### Then test my implementation:\n",
    " i) $x^2=a, \\space a=2$\n",
    "\n",
    "ii) Kepler's Equation: $ M = E - e sin(E) $\n",
    "\n",
    "### Finally plot error\n",
    "Demonstrate how quickly the method converges by plotting the error."
   ]
  },
  {
   "cell_type": "code",
   "execution_count": 12,
   "metadata": {},
   "outputs": [],
   "source": [
    "import numpy as np\n",
    "M1 = 1.5\n",
    "e1 = 0.5\n",
    "M2 = 1.5\n",
    "e2 = 0.9\n",
    "Emin = 0\n",
    "Emax = 2*np.pi\n",
    "a_guess = 3"
   ]
  },
  {
   "cell_type": "code",
   "execution_count": 14,
   "metadata": {},
   "outputs": [
    {
     "name": "stdout",
     "output_type": "stream",
     "text": [
      "0.5\n",
      "0.5\n",
      "0.5\n",
      "0.5\n",
      "0.5\n",
      "0.5\n",
      "0.5\n",
      "0.5\n"
     ]
    }
   ],
   "source": [
    "def newton(a_guess,N):\n",
    "    x = np.zeros(N)\n",
    "    x[0] = 0.5\n",
    "    for k in range(N-1):\n",
    "        x[k+1] = x[k]*(2-a_guess*x[k])#x[k]-(a_guess*x[k]**2-x[k])\n",
    "        print(x[k])\n",
    "newton(2,9)"
   ]
  },
  {
   "cell_type": "code",
   "execution_count": null,
   "metadata": {},
   "outputs": [],
   "source": []
  }
 ],
 "metadata": {
  "anaconda-cloud": {},
  "kernelspec": {
   "display_name": "Python [conda env:anaconda3]",
   "language": "python",
   "name": "conda-env-anaconda3-py"
  },
  "language_info": {
   "codemirror_mode": {
    "name": "ipython",
    "version": 3
   },
   "file_extension": ".py",
   "mimetype": "text/x-python",
   "name": "python",
   "nbconvert_exporter": "python",
   "pygments_lexer": "ipython3",
   "version": "3.5.4"
  }
 },
 "nbformat": 4,
 "nbformat_minor": 2
}
