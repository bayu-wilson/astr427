{
 "cells": [
  {
   "cell_type": "markdown",
   "metadata": {},
   "source": [
    "# Homework 3: Root Finding\n",
    "\n",
    "### Bayu Wilson\n",
    "### Professor Tom Quinn\n",
    "\n",
    "Due May 9th"
   ]
  },
  {
   "cell_type": "markdown",
   "metadata": {},
   "source": [
    "# NOTES\n",
    "\n",
    "What is meant by a root? [See here](https://en.wikipedia.org/wiki/Root-finding_algorithm#Bisection_method)\n",
    "\n",
    "A root of a function f, from the real numbers to real numbers or from the complex numbers to the complex numbers, is a number x such that f(x) = 0.\n",
    "\n",
    "$f(x)=0, \\space f(model)-f(data) = 0$\n",
    "\n",
    "## $$ M = E - e sin(E) $$\n",
    "\n",
    "## $$ \\Delta t= (t-t_{peri}) = \\frac{P M}{2\\pi} $$\n",
    "\n",
    "## $$ f(E) = 0  = E-esin(E)-M $$\n",
    "M: mean anomoly. It is an **angle** that increases linearly in time. Proportional to time.\n",
    "\n",
    "E: Eccentric anomoly is the position of body from the center of the ellipse. This is also an **angle**.\n",
    "\n",
    "e: Eccentricity of the ellipse (0 is circle, 1 is parabola)"
   ]
  },
  {
   "cell_type": "markdown",
   "metadata": {},
   "source": [
    "### BISECTION\n",
    "\n",
    "$$ m = \\frac{a+b}{2}$$\n",
    "\n",
    "$$ f(m)*f(b)<0, \\space (a,b)\\rightarrow (m,b) $$\n",
    "\n",
    "$$ f(a)*f(m)<0, \\space (a,b) \\rightarrow (a,m) $$\n",
    "\n",
    "### NEWTON\n",
    "\n",
    "$$ 0 = f(x) = f(x_0) + (x-x_0)f'(x_0) + \\frac{(x-x_0)^2}{2}f''(x_0) $$\n",
    "\n",
    "$$ x = x_0 - \\frac{f(x_0)}{f'(x_0)} $$\n",
    "\n",
    "$$ x_{k+1} = x_{k}-\\frac{f(x_k)}{f'(x_k)} $$"
   ]
  },
  {
   "cell_type": "markdown",
   "metadata": {},
   "source": [
    "### DIVISION\n",
    "\n",
    "Solution is to force multiplication instead of doing division. What happens is actually a root finding function.\n",
    "\n",
    "$x*a - 1 = 0,a-1.0/x=0,f'=1.0/x^2$\n",
    "\n",
    "$ x_{k+1} = x_{k}-(ax_k^2-x_k) $\n",
    "\n",
    "$ x_{k+1} = x_{k}(2-ax_k) $"
   ]
  },
  {
   "cell_type": "markdown",
   "metadata": {},
   "source": [
    "## 1) Write a program to find the roots of one-dimensional equations using:\n",
    "a) [Bisection method](https://en.wikipedia.org/wiki/Bisection_method)\n",
    "\n",
    "b) [Newton-Raphson method](https://en.wikipedia.org/wiki/Newton%27s_method)\n",
    "\n",
    "### Then test my implementation:\n",
    " i) $x^2=a, \\space a=2$\n",
    "\n",
    "ii) Kepler's Equation: $ M = E - e sin(E) $\n",
    "\n",
    "### Finally plot error\n",
    "Demonstrate how quickly the method converges by plotting the error."
   ]
  },
  {
   "cell_type": "code",
   "execution_count": 119,
   "metadata": {},
   "outputs": [],
   "source": [
    "import numpy as np\n",
    "import matplotlib.pyplot as plt"
   ]
  },
  {
   "cell_type": "code",
   "execution_count": 95,
   "metadata": {},
   "outputs": [],
   "source": [
    "def derivative(f,x,h):\n",
    "    \"\"\"\n",
    "    Input is function with one dependent variable. Output is value the derivative at a point.\n",
    "    \"\"\"\n",
    "    return (f(x+h)-f(x-h))/(2*h)\n",
    "def newton_raph(f,x0,h):\n",
    "    x=np.zeros_like(np.arange(0,100,h))\n",
    "    x[0] = x0\n",
    "    for k in range(len(x)-1):\n",
    "        x[k+1] = x[k] - f(x[k])/derivative(f,x[k],h)\n",
    "    return x[-1]\n",
    "def easy_function(x):\n",
    "    return x**2-2\n",
    "def bisection(f,a,b,iterations):\n",
    "    \"\"\"\n",
    "    Input: \n",
    "    `a` (f(a) is positive number)\n",
    "    `b` (f(b) is negative number)\n",
    "    `f` (function with one dependent variable)\n",
    "    `iterations` (how many iterations of while loop)\n",
    "    \"\"\"\n",
    "    i=0\n",
    "    while i<iterations:\n",
    "        c = (a+b)/2\n",
    "        if f(b)*f(c)<0:\n",
    "            a=c\n",
    "        elif f(a)*f(c)<0:\n",
    "            b=c\n",
    "        i+=1\n",
    "    return c"
   ]
  },
  {
   "cell_type": "code",
   "execution_count": 106,
   "metadata": {},
   "outputs": [
    {
     "name": "stdout",
     "output_type": "stream",
     "text": [
      "1.41421356237\n",
      "1.414213562373095\n",
      "Analytic solution is \n",
      "1.4142135623730951\n"
     ]
    }
   ],
   "source": [
    "print(newton_raph(easy_function,0.5,0.1))\n",
    "print(bisection(easy_function,0,2,10000))\n",
    "print(\"Analytic solution is \\n{0}\".format(np.sqrt(2)))"
   ]
  },
  {
   "cell_type": "markdown",
   "metadata": {},
   "source": [
    "# $$ M = E-esin(E) $$\n",
    "# $$ f(E) = E-esin(E)-M $$\n",
    "\n",
    "Solve for $E$"
   ]
  },
  {
   "cell_type": "code",
   "execution_count": 142,
   "metadata": {},
   "outputs": [
    {
     "data": {
      "text/plain": [
       "<function __main__.<lambda>>"
      ]
     },
     "execution_count": 142,
     "metadata": {},
     "output_type": "execute_result"
    }
   ],
   "source": [
    "lambda E: kepler_equation(E,e1)\n"
   ]
  },
  {
   "cell_type": "code",
   "execution_count": 145,
   "metadata": {},
   "outputs": [
    {
     "data": {
      "text/plain": [
       "2.2179972025985775"
      ]
     },
     "execution_count": 145,
     "metadata": {},
     "output_type": "execute_result"
    }
   ],
   "source": [
    "M = 1.5\n",
    "#e = 0.5\n",
    "e1 = 0.5\n",
    "e2 = 0.9\n",
    "E_array = np.arange(0,2*np.pi,0.1)\n",
    "def kepler_equation(E,e=e2):\n",
    "    return E-e*np.sin(E)-M\n",
    "bisection(lambda E: kepler_equation(E,e2),1.5,2.5,1000) # CLOSURE"
   ]
  },
  {
   "cell_type": "code",
   "execution_count": 134,
   "metadata": {},
   "outputs": [
    {
     "data": {
      "text/plain": [
       "[<matplotlib.lines.Line2D at 0x11a948cf8>]"
      ]
     },
     "execution_count": 134,
     "metadata": {},
     "output_type": "execute_result"
    },
    {
     "data": {
      "image/png": "[encoded data removed]",
      "text/plain": [
       "<matplotlib.figure.Figure at 0x11a81aa90>"
      ]
     },
     "metadata": {},
     "output_type": "display_data"
    }
   ],
   "source": [
    "plt.plot(E_array,kepler_equation(E_array,e1))\n",
    "plt.plot(E_array,kepler_equation(E_array,e2))\n",
    "plt.plot(E_array,np.zeros_like(E_array))"
   ]
  },
  {
   "cell_type": "code",
   "execution_count": null,
   "metadata": {},
   "outputs": [],
   "source": []
  },
  {
   "cell_type": "code",
   "execution_count": null,
   "metadata": {},
   "outputs": [],
   "source": []
  }
 ],
 "metadata": {
  "anaconda-cloud": {},
  "kernelspec": {
   "display_name": "Python [conda env:anaconda3]",
   "language": "python",
   "name": "conda-env-anaconda3-py"
  },
  "language_info": {
   "codemirror_mode": {
    "name": "ipython",
    "version": 3
   },
   "file_extension": ".py",
   "mimetype": "text/x-python",
   "name": "python",
   "nbconvert_exporter": "python",
   "pygments_lexer": "ipython3",
   "version": "3.5.4"
  }
 },
 "nbformat": 4,
 "nbformat_minor": 2
}
