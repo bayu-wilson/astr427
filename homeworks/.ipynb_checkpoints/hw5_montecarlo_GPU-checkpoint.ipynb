{
 "cells": [
  {
   "cell_type": "markdown",
   "metadata": {},
   "source": [
    "# Homework 5: Monte Carlo on GPUs"
   ]
  },
  {
   "cell_type": "markdown",
   "metadata": {},
   "source": [
    "Write a (non-GPU) program to calculate π by integrating the area of a\n",
    "circle of radius 1 with the Monte-Carlo method. You may use a system provided\n",
    "random number generator. The Python random module says\n",
    "it uses the Mersenne Twister which I mentioned in class as a quality\n",
    "generator. Plot how the error in the estimated value of π changes with\n",
    "the number of points used to evaluate the integral; does this follow the\n",
    "expected error for a Monte Carlo method?"
   ]
  },
  {
   "cell_type": "code",
   "execution_count": 1,
   "metadata": {},
   "outputs": [],
   "source": [
    "radius = 1"
   ]
  },
  {
   "cell_type": "code",
   "execution_count": null,
   "metadata": {},
   "outputs": [],
   "source": []
  }
 ],
 "metadata": {
  "anaconda-cloud": {},
  "kernelspec": {
   "display_name": "Python [conda env:anaconda3]",
   "language": "python",
   "name": "conda-env-anaconda3-py"
  },
  "language_info": {
   "codemirror_mode": {
    "name": "ipython",
    "version": 3
   },
   "file_extension": ".py",
   "mimetype": "text/x-python",
   "name": "python",
   "nbconvert_exporter": "python",
   "pygments_lexer": "ipython3",
   "version": "3.5.4"
  }
 },
 "nbformat": 4,
 "nbformat_minor": 2
}
