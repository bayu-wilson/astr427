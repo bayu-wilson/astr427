{
 "cells": [
  {
   "cell_type": "markdown",
   "metadata": {},
   "source": [
    "\n",
    "\n",
    "\n",
    "\n",
    "\n"
   ]
  },
  {
   "cell_type": "markdown",
   "metadata": {},
   "source": [
    "# Monday, May 23, 2018\n",
    "\n",
    "### ASTR 427 notes"
   ]
  },
  {
   "cell_type": "markdown",
   "metadata": {},
   "source": [
    "#### Optimization Book Notes\n",
    "You are given a single function f that depends on one or more in- dependent variables. You want to find the value of those variables where f takes on a maximum or a minimum value. You can then calculate what value of f is achieved at the maximum or minimum.\n",
    "\n",
    "Unfortunately, there is no perfect optimization algorithm. This is a case where we strongly urge you to try more than one method in comparative fashion."
   ]
  },
  {
   "cell_type": "markdown",
   "metadata": {},
   "source": [
    "### Lecture Notes\n",
    "\n",
    "We kno2 from kindergarten that if we want to find minimum of problem we can set the gradient equal ot zero.\n",
    "\n",
    "FIND MINIMUM OF $f(\\vec{x})$:\n",
    "### $$ \\vec{g} \\equiv \\vec{\\nabla} f(\\vec{x}) = 0 $$\n",
    "\n",
    "$\\vec{x}_{k+1} = \\vec{x}_k+\\vec{\\delta}_k$\n",
    "\n",
    "$A(\\vec{x}) * \\vec{\\delta}_k = -\\vec{g}(\\vec{x}_k)$\n",
    "\n",
    "### $\\frac{d^2f}{dx_i dx_j}$\n",
    "\n",
    "$\\vec{\\nabla} \\cdot \\vec{u} = 0$\n",
    "\n",
    "$ \\vec{u} \\cdot \\delta(\\vec{\\nabla} f)=0$\n",
    "\n",
    "$\\vec{u} \\cdot(\\delta(\\vec{\\nabla} f)=A \\delta \\vec{x}))= 0$\n",
    "\n",
    "$ \\vec{u} \\cdot A \\cdot \\delta\\vec{x} =0 $\n",
    "\n",
    "\n",
    "Big idea is to use gradient to figure out which way to go. Follow the gradient... follow the steepest descent."
   ]
  },
  {
   "cell_type": "markdown",
   "metadata": {},
   "source": [
    "Golden Search method.\n"
   ]
  },
  {
   "cell_type": "code",
   "execution_count": null,
   "metadata": {},
   "outputs": [],
   "source": []
  },
  {
   "cell_type": "code",
   "execution_count": null,
   "metadata": {},
   "outputs": [],
   "source": []
  },
  {
   "cell_type": "code",
   "execution_count": null,
   "metadata": {},
   "outputs": [],
   "source": []
  },
  {
   "cell_type": "code",
   "execution_count": null,
   "metadata": {},
   "outputs": [],
   "source": []
  }
 ],
 "metadata": {
  "anaconda-cloud": {},
  "kernelspec": {
   "display_name": "Python [conda env:anaconda3]",
   "language": "python",
   "name": "conda-env-anaconda3-py"
  },
  "language_info": {
   "codemirror_mode": {
    "name": "ipython",
    "version": 3
   },
   "file_extension": ".py",
   "mimetype": "text/x-python",
   "name": "python",
   "nbconvert_exporter": "python",
   "pygments_lexer": "ipython3",
   "version": "3.5.4"
  }
 },
 "nbformat": 4,
 "nbformat_minor": 2
}
