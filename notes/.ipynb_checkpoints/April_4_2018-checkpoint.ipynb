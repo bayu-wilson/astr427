{
 "cells": [
  {
   "cell_type": "markdown",
   "metadata": {},
   "source": [
    "# Notes for Wednesday, April 4th, 2018\n",
    "\n",
    "### Bayu Wilson\n"
   ]
  },
  {
   "cell_type": "code",
   "execution_count": 2,
   "metadata": {},
   "outputs": [],
   "source": [
    "from utils import *"
   ]
  },
  {
   "cell_type": "markdown",
   "metadata": {},
   "source": [
    "# Polynomial interpolation\n",
    "\n",
    "[Neville's Algorithm](https://en.wikipedia.org/wiki/Neville%27s_algorithm)\n",
    "\n",
    "In mathematics, Neville's algorithm is an algorithm used for polynomial interpolation that was derived by the mathematician Eric Harold Neville. Given n + 1 points, there is a unique polynomial of degree ≤ n which goes through the given points. Neville's algorithm evaluates this polynomial.\n",
    "\n",
    "[scipy.interpolate.lagrange()](https://docs.scipy.org/doc/scipy/reference/generated/scipy.interpolate.lagrange.html)\n",
    "\n",
    "Given two 1-D arrays x and w, returns the Lagrange interpolating polynomial through the points (x, w).\n",
    "Warning: This implementation is numerically unstable. Do not expect to be able to use more than about 20 points even if they are chosen optimally.\n",
    "\n",
    "\n",
    "(i) $$ P_{01} = \\frac{(x-x_1)P_0+(x_0-x)P_1}{(x_0-x_1)}$$\n",
    "\n",
    "(ii) $$ P_{12} = \\frac{(x-x_2)P_1+(x_1-x)P_2}{(x_1-x_2)}$$\n",
    "\n",
    "Interpolite the lines in i & ii to get iii and iv\n",
    "\n",
    "(iii) $$ P_{012} = \\frac{(x-x_2)P_{01}+(x_0-x)P_{12}}{(x_0-x_2)}$$\n",
    "\n",
    "(iv) $$ P_{123} = \\frac{(x-x_3)P_{12}+(x_1-x)P_{23}}{(x_1-x_2)}$$\n",
    "\n",
    "Interpolate the previous interpolations these to get cubic?: \n",
    "\n",
    "(v) $$ P_{0123} = \\frac{(x-x_3)P_{012}+(x_0-x)P_{123}}{(x_0-x_3)}$$\n",
    "\n",
    "But also,\n",
    "\n",
    "$$ P_{01}-P_0 = C_{1,0} = \\frac{(x_0-x)(P_1-P_0)}{(x_0-x_1)}$$\n",
    "\n",
    "$$ P_{01}-P_1 = D_{1,0} = \\frac{(x-x_1)(P_0-P_1)}{(x_0-x_1)}$$"
   ]
  },
  {
   "cell_type": "code",
   "execution_count": 19,
   "metadata": {},
   "outputs": [],
   "source": [
    "def neville(datax, datay, x):\n",
    "    \"\"\"\n",
    "    Finds an interpolated value using Neville's algorithm.\n",
    "    Input\n",
    "      datax: input x's in a list of size n\n",
    "      datay: input y's in a list of size n\n",
    "      x: the x value used for interpolation\n",
    "    Output\n",
    "      p[0]: the polynomial of degree n\n",
    "    \"\"\"\n",
    "    n = len(datax)\n",
    "    p = n*[0]\n",
    "    for k in range(n):\n",
    "        for i in range(n-k):\n",
    "            if k == 0:\n",
    "                p[i] = datay[i]\n",
    "            else:\n",
    "                p[i] = ((x-datax[i+k])*p[i]+ \\\n",
    "                        (datax[i]-x)*p[i+1])/ \\\n",
    "                        (datax[i]-datax[i+k])\n",
    "    return p[0]"
   ]
  },
  {
   "cell_type": "code",
   "execution_count": 9,
   "metadata": {},
   "outputs": [
    {
     "data": {
      "image/png": "[encoded data removed]",
      "text/plain": [
       "<matplotlib.figure.Figure at 0x15202b47b8>"
      ]
     },
     "metadata": {},
     "output_type": "display_data"
    }
   ],
   "source": [
    "x,y = np.array([1,2,3,4]),np.array([1,3,2,4])\n",
    "plt.scatter(x,y, s=1000,color = 'red')\n",
    "plt.grid()\n",
    "plt.show()"
   ]
  },
  {
   "cell_type": "markdown",
   "metadata": {},
   "source": [
    "# Summary\n",
    "\n",
    "Apparently linear interpolation is pretty simple. High accuracy very quickly. Though it can be unstable if function is not smooth."
   ]
  },
  {
   "cell_type": "code",
   "execution_count": 77,
   "metadata": {},
   "outputs": [
    {
     "data": {
      "image/png": "[encoded data removed]",
      "text/plain": [
       "<matplotlib.figure.Figure at 0x1821773898>"
      ]
     },
     "metadata": {},
     "output_type": "display_data"
    }
   ],
   "source": [
    "from scipy import interpolate\n",
    "x = np.arange(0, 10)\n",
    "y = np.exp(-x/3)*np.cos(x*10)\n",
    "f = interpolate.interp1d(x, y,'cubic')#interpolate.lagrange(x,y)#interpolate.interp1d(x, y,'cubic')\n",
    "xnew = np.arange(0, 9, 0.1)\n",
    "ynew = f(xnew)\n",
    "plt.grid()\n",
    "plt.plot(xnew,ynew)\n",
    "plt.scatter(x,y,s=10, color = 'green')\n",
    "plt.show();"
   ]
  },
  {
   "cell_type": "markdown",
   "metadata": {},
   "source": [
    "# Weights by radius\n",
    "\n",
    "### $ f(\\vec{x})  = \\sum_{nearest \\space neighbors} f(\\vec{x}_i)W\\left(\\left|\\vec{x}-\\vec{x}_i\\right|\\right)$\n",
    "\n",
    "\n",
    "NGP - Nearest Grid Point\n",
    "\n",
    "CIC - cloud in cell\n",
    "\n",
    "This is useful in Smooth Particle Hydrodynamics"
   ]
  },
  {
   "cell_type": "code",
   "execution_count": null,
   "metadata": {},
   "outputs": [],
   "source": []
  }
 ],
 "metadata": {
  "anaconda-cloud": {},
  "kernelspec": {
   "display_name": "Python [conda env:anaconda3]",
   "language": "python",
   "name": "conda-env-anaconda3-py"
  },
  "language_info": {
   "codemirror_mode": {
    "name": "ipython",
    "version": 3
   },
   "file_extension": ".py",
   "mimetype": "text/x-python",
   "name": "python",
   "nbconvert_exporter": "python",
   "pygments_lexer": "ipython3",
   "version": "3.5.4"
  }
 },
 "nbformat": 4,
 "nbformat_minor": 2
}
