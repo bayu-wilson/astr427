{
 "cells": [
  {
   "cell_type": "markdown",
   "metadata": {},
   "source": [
    "\n",
    "\n",
    "\n",
    "\n",
    "\n"
   ]
  },
  {
   "cell_type": "markdown",
   "metadata": {},
   "source": [
    "# Monday, May 14, 2018 to Wednesday, May 16, 2018\n",
    "\n",
    "### ASTR 427 notes"
   ]
  },
  {
   "cell_type": "markdown",
   "metadata": {},
   "source": [
    "#### Optimization Book Notes\n",
    "You are given a single function f that depends on one or more in- dependent variables. You want to find the value of those variables where f takes on a maximum or a minimum value. You can then calculate what value of f is achieved at the maximum or minimum.\n",
    "\n",
    "Unfortunately, there is no perfect optimization algorithm. This is a case where we strongly urge you to try more than one method in comparative fashion."
   ]
  },
  {
   "cell_type": "markdown",
   "metadata": {},
   "source": [
    "### Lecture Notes\n",
    "\n",
    "We kno2 from kindergarten that if we want to find minimum of problem we can set the gradient equal ot zero.\n",
    "\n",
    "FIND MINIMUM OF $f(\\vec{x})$:\n",
    "### $$ \\vec{g} \\equiv \\vec{\\nabla} f(\\vec{x}) = 0 $$\n",
    "\n",
    "$\\vec{x}_{k+1} = \\vec{x}_k+\\vec{\\delta}_k$\n",
    "\n",
    "$A(\\vec{x}) * \\vec{\\delta}_k = -\\vec{g}(\\vec{x}_k)$\n",
    "\n",
    "### $\\frac{d^2f}{dx_i dx_j}$\n",
    "\n",
    "$\\vec{\\nabla} \\cdot \\vec{u} = 0$\n",
    "\n",
    "$ \\vec{u} \\cdot \\delta(\\vec{\\nabla} f)=0$\n",
    "\n",
    "$\\vec{u} \\cdot(\\delta(\\vec{\\nabla} f)=A \\delta \\vec{x}))= 0$\n",
    "\n",
    "$ \\vec{u} \\cdot A \\cdot \\delta\\vec{x} =0 $\n",
    "\n",
    "\n",
    "Big idea is to use gradient to figure out which way to go. Follow the gradient... follow the steepest descent."
   ]
  },
  {
   "cell_type": "markdown",
   "metadata": {},
   "source": [
    "Golden Search method.\n"
   ]
  },
  {
   "cell_type": "markdown",
   "metadata": {},
   "source": [
    "# DAY 2\n",
    "\n",
    "Random numbers, Press Ch7, \n",
    "Non-uniform R.N., Monte-Carlo Integration"
   ]
  },
  {
   "cell_type": "markdown",
   "metadata": {},
   "source": [
    "True random:\n",
    "- physical, \n",
    "Pseudo-Random:\n",
    "- Random\n",
    "- Mathematically generated"
   ]
  },
  {
   "cell_type": "markdown",
   "metadata": {},
   "source": [
    "Marsenne Twister\n",
    "\n",
    "$$ P_{err} = 2^{19937}-1 $$"
   ]
  },
  {
   "cell_type": "code",
   "execution_count": 109,
   "metadata": {},
   "outputs": [
    {
     "data": {
      "image/png": "[encoded data removed]",
      "text/plain": [
       "<matplotlib.figure.Figure at 0x1223cb6d8>"
      ]
     },
     "metadata": {},
     "output_type": "display_data"
    }
   ],
   "source": [
    "import numpy as np, matplotlib.pyplot as plt\n",
    "from matplotlib import cm as cm\n",
    "np.random.seed(0)\n",
    "rand_val1 = np.random.uniform(0,1,100)\n",
    "mean1 = np.mean(rand_val1)\n",
    "rand_val2 = np.random.uniform(1,2,100)\n",
    "mean2 = np.mean(rand_val2)\n",
    "#plt.scatter(random_vals,rand_val2)\n",
    "#plt.plot(np.abs(np.fft.fft(random_vals)))\n",
    "#plt.plot((rand_val1-mean1)**2)\n",
    "sigma1 = np.std(rand_val1)\n",
    "sigma2 = np.std(rand_val2)\n",
    "test = np.cov(rand_val1,[rand_val2,np.zeros_like(rand_val1),np.ones_like(rand_val2)])/(sigma1*sigma2)\n",
    "\n",
    "#cm.get_cmap('jet', 30)\n",
    "#plt.imshow(np.cov(rand_val1,rand_val2))\n",
    "plt.imshow(test)\n",
    "plt.colorbar()\n",
    "plt.show()"
   ]
  },
  {
   "cell_type": "code",
   "execution_count": 158,
   "metadata": {},
   "outputs": [
    {
     "data": {
      "text/plain": [
       "<matplotlib.colorbar.Colorbar at 0x1223c34a8>"
      ]
     },
     "execution_count": 158,
     "metadata": {},
     "output_type": "execute_result"
    },
    {
     "data": {
      "image/png": "[encoded data removed]",
      "text/plain": [
       "<matplotlib.figure.Figure at 0x1103cd400>"
      ]
     },
     "metadata": {},
     "output_type": "display_data"
    }
   ],
   "source": [
    "plt.imshow(np.corrcoef(rand_val1,rand_val2))\n",
    "plt.colorbar()"
   ]
  },
  {
   "cell_type": "code",
   "execution_count": 156,
   "metadata": {},
   "outputs": [
    {
     "data": {
      "text/plain": [
       "array([[ 1.        ,  0.01827627],\n",
       "       [ 0.01827627,  1.        ]])"
      ]
     },
     "execution_count": 156,
     "metadata": {},
     "output_type": "execute_result"
    }
   ],
   "source": [
    "#np.random.poisson(lam=(100., 500.), size=(100, 2))\n",
    "np.corrcoef(rand_val1,np.random.poisson(lam=(100),size=100) / 100)"
   ]
  },
  {
   "cell_type": "code",
   "execution_count": null,
   "metadata": {},
   "outputs": [],
   "source": []
  }
 ],
 "metadata": {
  "anaconda-cloud": {},
  "kernelspec": {
   "display_name": "Python [conda env:anaconda3]",
   "language": "python",
   "name": "conda-env-anaconda3-py"
  },
  "language_info": {
   "codemirror_mode": {
    "name": "ipython",
    "version": 3
   },
   "file_extension": ".py",
   "mimetype": "text/x-python",
   "name": "python",
   "nbconvert_exporter": "python",
   "pygments_lexer": "ipython3",
   "version": "3.5.4"
  }
 },
 "nbformat": 4,
 "nbformat_minor": 2
}
