{
 "cells": [
  {
   "cell_type": "markdown",
   "metadata": {},
   "source": [
    "#  Notes\n",
    "\n",
    "March_28_2018"
   ]
  },
  {
   "cell_type": "code",
   "execution_count": 12,
   "metadata": {
    "collapsed": true
   },
   "outputs": [],
   "source": [
    "import numpy as np"
   ]
  },
  {
   "cell_type": "markdown",
   "metadata": {},
   "source": [
    "# (i)"
   ]
  },
  {
   "cell_type": "code",
   "execution_count": 13,
   "metadata": {
    "collapsed": true
   },
   "outputs": [],
   "source": [
    "def power(x,y):\n",
    "    x = np.log(x) # original x is lost, allocating memory for new array\n",
    "    y*=x          # original y is kept, reallocting memory of old array with new array\n",
    "    return np.exp(y)"
   ]
  },
  {
   "cell_type": "code",
   "execution_count": 14,
   "metadata": {},
   "outputs": [
    {
     "data": {
      "text/plain": [
       "array([ 8.])"
      ]
     },
     "execution_count": 14,
     "metadata": {},
     "output_type": "execute_result"
    }
   ],
   "source": [
    "x = np.array([2.0])\n",
    "y = np.array([3.0])\n",
    "power(x,y)"
   ]
  },
  {
   "cell_type": "code",
   "execution_count": 15,
   "metadata": {},
   "outputs": [
    {
     "name": "stdout",
     "output_type": "stream",
     "text": [
      "[ 2.] [ 2.07944154]\n"
     ]
    }
   ],
   "source": [
    "print(x,y)"
   ]
  },
  {
   "cell_type": "markdown",
   "metadata": {},
   "source": [
    "The reason we have this is because of memory management.\n",
    "\n",
    "`result += np.exp(y)` modifies the original array"
   ]
  },
  {
   "cell_type": "markdown",
   "metadata": {},
   "source": [
    "# (ii)"
   ]
  },
  {
   "cell_type": "code",
   "execution_count": 26,
   "metadata": {},
   "outputs": [
    {
     "name": "stdout",
     "output_type": "stream",
     "text": [
      "[ 8.]\n"
     ]
    }
   ],
   "source": [
    "def power1(x,y,result):\n",
    "    x = np.log(x)\n",
    "    y*=x  \n",
    "    result+= np.exp(y) # this is not recommended. We are \n",
    "x = np.array([2.0])\n",
    "y = np.array([3.0])\n",
    "ans = np.array([0.0])\n",
    "power1(x,y,ans)\n",
    "print(ans)"
   ]
  },
  {
   "cell_type": "markdown",
   "metadata": {},
   "source": [
    "# (iii)"
   ]
  },
  {
   "cell_type": "code",
   "execution_count": 45,
   "metadata": {},
   "outputs": [
    {
     "name": "stdout",
     "output_type": "stream",
     "text": [
      "[ 8.]\n"
     ]
    }
   ],
   "source": [
    "def power2(x,y):\n",
    "    x = np.log(x)\n",
    "    y*=x \n",
    "    global ans # highly discouraged\n",
    "    ans = np.exp(y)\n",
    "x = np.array([2.0])\n",
    "y = np.array([3.0])\n",
    "ans = np.array([0.0])\n",
    "power2(x,y)\n",
    "print(ans)"
   ]
  },
  {
   "cell_type": "markdown",
   "metadata": {},
   "source": [
    "### This is kinda cool"
   ]
  },
  {
   "cell_type": "code",
   "execution_count": 54,
   "metadata": {},
   "outputs": [
    {
     "name": "stdout",
     "output_type": "stream",
     "text": [
      "0 1 2\n"
     ]
    }
   ],
   "source": [
    "asdf = 1\n",
    "def test(x,*arg):\n",
    "    print(x,arg[0],arg[1])\n",
    "test(asdf*0,asdf*1,asdf*2)"
   ]
  },
  {
   "cell_type": "markdown",
   "metadata": {},
   "source": [
    "# (iv)\n",
    "It's totally possibly for a function to return another function!! This is called **CLOSURE**. When you define a function within a function call.\n",
    "\n",
    "```\n",
    "def LFfunc(z,t):\n",
    "    def LFm(mass):\n",
    "    return LF(mass,z,t)\n",
    "   return LFm\n",
    "\n",
    "```\n"
   ]
  },
  {
   "cell_type": "code",
   "execution_count": 65,
   "metadata": {},
   "outputs": [
    {
     "data": {
      "text/plain": [
       "10"
      ]
     },
     "execution_count": 65,
     "metadata": {},
     "output_type": "execute_result"
    }
   ],
   "source": [
    "(lambda x: x * 2)(5)"
   ]
  },
  {
   "cell_type": "code",
   "execution_count": 84,
   "metadata": {},
   "outputs": [
    {
     "data": {
      "text/plain": [
       "array([  1.00000000e-10,   1.67683294e-10,   2.81176870e-10,\n",
       "         4.71486636e-10,   7.90604321e-10,   1.32571137e-09,\n",
       "         2.22299648e-09,   3.72759372e-09,   6.25055193e-09,\n",
       "         1.04811313e-08,   1.75751062e-08,   2.94705170e-08,\n",
       "         4.94171336e-08,   8.28642773e-08,   1.38949549e-07,\n",
       "         2.32995181e-07,   3.90693994e-07,   6.55128557e-07,\n",
       "         1.09854114e-06,   1.84206997e-06,   3.08884360e-06,\n",
       "         5.17947468e-06,   8.68511374e-06,   1.45634848e-05,\n",
       "         2.44205309e-05,   4.09491506e-05,   6.86648845e-05,\n",
       "         1.15139540e-04,   1.93069773e-04,   3.23745754e-04,\n",
       "         5.42867544e-04,   9.10298178e-04,   1.52641797e-03,\n",
       "         2.55954792e-03,   4.29193426e-03,   7.19685673e-03,\n",
       "         1.20679264e-02,   2.02358965e-02,   3.39322177e-02,\n",
       "         5.68986603e-02,   9.54095476e-02,   1.59985872e-01,\n",
       "         2.68269580e-01,   4.49843267e-01,   7.54312006e-01,\n",
       "         1.26485522e+00,   2.12095089e+00,   3.55648031e+00,\n",
       "         5.96362332e+00,   1.00000000e+01])"
      ]
     },
     "execution_count": 84,
     "metadata": {},
     "output_type": "execute_result"
    }
   ],
   "source": [
    "m = (1-np.logspace(-10,1))!=1\n",
    "#np.logspace(-10,1)[m]\n",
    "np.logspace(-10,1)"
   ]
  },
  {
   "cell_type": "code",
   "execution_count": 90,
   "metadata": {},
   "outputs": [
    {
     "data": {
      "text/plain": [
       "(3602879701896397, 18014398509481984)"
      ]
     },
     "execution_count": 90,
     "metadata": {},
     "output_type": "execute_result"
    }
   ],
   "source": [
    ".2.as_integer_ratio() # cannot be encoded exactly"
   ]
  },
  {
   "cell_type": "code",
   "execution_count": 91,
   "metadata": {},
   "outputs": [
    {
     "data": {
      "text/plain": [
       "(884279719003555, 281474976710656)"
      ]
     },
     "execution_count": 91,
     "metadata": {},
     "output_type": "execute_result"
    }
   ],
   "source": [
    "np.pi.as_integer_ratio()"
   ]
  },
  {
   "cell_type": "code",
   "execution_count": 92,
   "metadata": {},
   "outputs": [
    {
     "data": {
      "text/plain": [
       "(6121026514868073, 2251799813685248)"
      ]
     },
     "execution_count": 92,
     "metadata": {},
     "output_type": "execute_result"
    }
   ],
   "source": [
    "np.e.as_integer_ratio()"
   ]
  },
  {
   "cell_type": "code",
   "execution_count": 93,
   "metadata": {},
   "outputs": [
    {
     "data": {
      "text/plain": [
       "0.2"
      ]
     },
     "execution_count": 93,
     "metadata": {},
     "output_type": "execute_result"
    }
   ],
   "source": [
    "3602879701896397/18014398509481984"
   ]
  },
  {
   "cell_type": "code",
   "execution_count": null,
   "metadata": {
    "collapsed": true
   },
   "outputs": [],
   "source": []
  }
 ],
 "metadata": {
  "anaconda-cloud": {},
  "kernelspec": {
   "display_name": "Python [conda env:anaconda3]",
   "language": "python",
   "name": "conda-env-anaconda3-py"
  },
  "language_info": {
   "codemirror_mode": {
    "name": "ipython",
    "version": 3
   },
   "file_extension": ".py",
   "mimetype": "text/x-python",
   "name": "python",
   "nbconvert_exporter": "python",
   "pygments_lexer": "ipython3",
   "version": "3.5.2"
  }
 },
 "nbformat": 4,
 "nbformat_minor": 2
}
