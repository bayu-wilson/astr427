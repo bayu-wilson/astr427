{
 "cells": [
  {
   "cell_type": "markdown",
   "metadata": {},
   "source": [
    "# Extremization - Optimization\n",
    "\n",
    "### Ch. 10\n",
    "\n",
    "Most often would be used in liklihood.\n",
    "\n",
    "\n",
    "##  $$ P(D|M(\\theta_1,\\theta_2))  $$\n",
    "\n",
    "\n",
    "\n",
    "### $$ a<b<c, f(a)>f(b) \\&f(c)>f(b)$$\n",
    "\n",
    "$ f(x) > f(b)\\rightarrow a,b,x$\n",
    "\n",
    "$ f(x) < f(b) \\rightarrow b,x,c$\n",
    "\n",
    "$ |a-c|<\\epsilon$\n",
    "\n",
    "$ f(x) \\approx f(x_0) + \\frac{1}{2} (x-x_0)^2f''(x_0)+...$\n",
    "\n",
    "## $x-x_0 \\approx \\sqrt{\\frac{2f(x)-f(x_0)}{f''(x_0)}}$\n",
    "\n",
    "## $\\epsilon =\\frac{f(x)-f(x_0)}{f(x_0)}$\n",
    "\n",
    "## $x-x_0 \\approx \\sqrt{\\epsilon} \\sqrt{\\frac{2f(x)}{f''(x_0)}}$\n",
    "\n",
    "### Golden Ratio\n",
    "##  $ \\frac{3 - \\sqrt{3}}{2} = 0.38$\n",
    "\n",
    "### Line searches\n",
    "\n",
    "## $f(x) \\approx \\frac{(x-b)(x-c)}{(a-b)(a-c)}f(a) + \\frac{(x-a)(x-c)}{(b-a)(b-c)}f(b)+...$\n",
    "\n",
    "Always choose a bracket to ensure that you're closing down on the number??\n",
    "\n",
    "# This is called `brent` method"
   ]
  },
  {
   "cell_type": "markdown",
   "metadata": {},
   "source": [
    "Bracketing methods determine successively smaller intervals (brackets) that contain a root. When the interval is small enough, then a root has been found. They generally use the intermediate value theorem, which asserts that if a continuous function has values of opposite signs at the end points of an interval, then the function has at least one root in the interval. (In the case of polynomials there are other methods, based on Sturm's theorem or Descartes' rule of signs, that give the exact number of roots in an interval.) These methods provide absolute error bounds on the root that is found."
   ]
  },
  {
   "cell_type": "code",
   "execution_count": null,
   "metadata": {},
   "outputs": [],
   "source": []
  },
  {
   "cell_type": "code",
   "execution_count": null,
   "metadata": {},
   "outputs": [],
   "source": []
  },
  {
   "cell_type": "code",
   "execution_count": null,
   "metadata": {},
   "outputs": [],
   "source": []
  },
  {
   "cell_type": "code",
   "execution_count": null,
   "metadata": {},
   "outputs": [],
   "source": []
  },
  {
   "cell_type": "code",
   "execution_count": null,
   "metadata": {},
   "outputs": [],
   "source": []
  },
  {
   "cell_type": "code",
   "execution_count": null,
   "metadata": {},
   "outputs": [],
   "source": []
  }
 ],
 "metadata": {
  "anaconda-cloud": {},
  "kernelspec": {
   "display_name": "Python [conda env:anaconda3]",
   "language": "python",
   "name": "conda-env-anaconda3-py"
  },
  "language_info": {
   "codemirror_mode": {
    "name": "ipython",
    "version": 3
   },
   "file_extension": ".py",
   "mimetype": "text/x-python",
   "name": "python",
   "nbconvert_exporter": "python",
   "pygments_lexer": "ipython3",
   "version": "3.5.4"
  }
 },
 "nbformat": 4,
 "nbformat_minor": 2
}
