{
 "cells": [
  {
   "cell_type": "markdown",
   "metadata": {},
   "source": [
    "$$\\frac{d^2x}{dt^2} + B \\frac{dx}{dt} + Cx = Dcos(t)$$\n",
    "\n",
    "$$ y[0] = x $$\n",
    "$$ y[1] = v $$\n",
    "$$ dydt[0] = v $$\n",
    "$$ dydt[1] = dv/dt $$"
   ]
  },
  {
   "cell_type": "code",
   "execution_count": 86,
   "metadata": {},
   "outputs": [
    {
     "data": {
      "text/plain": [
       "array([  4.        , -16.91939539])"
      ]
     },
     "execution_count": 86,
     "metadata": {},
     "output_type": "execute_result"
    }
   ],
   "source": [
    "import numpy as np\n",
    "import matplotlib.pyplot as plt\n",
    "from scipy.integrate import ode\n",
    "\n",
    "def f(t,y,B=2,C=2,D=2):\n",
    "    dydt = np.zeros(2)\n",
    "    dydt[0] = y[1]\n",
    "    dydt[1] = -B*y[1] - C*y[0] + D*np.cos(t)\n",
    "    return dydt\n",
    "f(1,[5,4])\n"
   ]
  },
  {
   "cell_type": "code",
   "execution_count": 87,
   "metadata": {},
   "outputs": [
    {
     "name": "stdout",
     "output_type": "stream",
     "text": [
      "[-0.58360909  0.6618334 ]\n"
     ]
    }
   ],
   "source": [
    "x0 = 0\n",
    "v0 = 0 \n",
    "t0 = 0\n",
    "dt = 0.1\n",
    "tf = 5\n",
    "solver = ode(f).set_integrator('dopri5',atol=1.0,rtol=1.0,nsteps=10)\n",
    "solver.set_initial_value([x0,v0],t0)\n",
    "while solver.t<tf: # solver.t starts with t0 and updates time each loop\n",
    "    solver.integrate(solver.t+dt)\n",
    "print(solver.y)"
   ]
  },
  {
   "cell_type": "markdown",
   "metadata": {},
   "source": [
    "http://www.usu.edu/mathecon/7360/2StageRunge/2StageRunge.html\n",
    "\n",
    "\n",
    "## 2-stage Runge Kutta\n",
    "\n",
    "4th order\n",
    "\n",
    "Required 4 derivatives\n",
    "\n",
    "$$ k_1 =hf(t_0,y_0)$$\n",
    "$$ k_2 =hf(t_0+0.5,y_0+k_1/2)$$\n",
    "$$ k_3 =hf(t_0+0.5,y_0+k_2/2)$$\n",
    "$$ k_4 =hf(t_1,y_0+k_2)$$"
   ]
  },
  {
   "cell_type": "markdown",
   "metadata": {},
   "source": [
    "## Burlirsch - Stoer\n",
    "\n",
    "$$ y_1 = y_0 + k_1/6 + k_2/3 + k_3/3 +k_4/6 + O(h^{E})$$\n",
    "\n"
   ]
  },
  {
   "cell_type": "markdown",
   "metadata": {},
   "source": [
    "## Predictor-Corrector Multistep\n"
   ]
  },
  {
   "cell_type": "markdown",
   "metadata": {},
   "source": [
    "## Stiff"
   ]
  },
  {
   "cell_type": "code",
   "execution_count": null,
   "metadata": {},
   "outputs": [],
   "source": []
  },
  {
   "cell_type": "code",
   "execution_count": null,
   "metadata": {},
   "outputs": [],
   "source": []
  },
  {
   "cell_type": "code",
   "execution_count": null,
   "metadata": {},
   "outputs": [],
   "source": []
  },
  {
   "cell_type": "code",
   "execution_count": null,
   "metadata": {},
   "outputs": [],
   "source": []
  },
  {
   "cell_type": "code",
   "execution_count": null,
   "metadata": {},
   "outputs": [],
   "source": []
  },
  {
   "cell_type": "code",
   "execution_count": null,
   "metadata": {},
   "outputs": [],
   "source": []
  }
 ],
 "metadata": {
  "anaconda-cloud": {},
  "celltoolbar": "Slideshow",
  "kernelspec": {
   "display_name": "Python [conda env:anaconda3]",
   "language": "python",
   "name": "conda-env-anaconda3-py"
  },
  "language_info": {
   "codemirror_mode": {
    "name": "ipython",
    "version": 3
   },
   "file_extension": ".py",
   "mimetype": "text/x-python",
   "name": "python",
   "nbconvert_exporter": "python",
   "pygments_lexer": "ipython3",
   "version": "3.5.4"
  }
 },
 "nbformat": 4,
 "nbformat_minor": 2
}
